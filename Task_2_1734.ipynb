{
  "nbformat": 4,
  "nbformat_minor": 0,
  "metadata": {
    "colab": {
      "provenance": [],
      "authorship_tag": "ABX9TyNtaDXSXm+1XD/iNK64QyAU",
      "include_colab_link": true
    },
    "kernelspec": {
      "name": "python3",
      "display_name": "Python 3"
    },
    "language_info": {
      "name": "python"
    }
  },
  "cells": [
    {
      "cell_type": "markdown",
      "metadata": {
        "id": "view-in-github",
        "colab_type": "text"
      },
      "source": [
        "<a href=\"https://colab.research.google.com/github/Jayanthkumar7/software_demo/blob/main/Task_2_1734.ipynb\" target=\"_parent\"><img src=\"https://colab.research.google.com/assets/colab-badge.svg\" alt=\"Open In Colab\"/></a>"
      ]
    },
    {
      "cell_type": "markdown",
      "source": [
        "## Sample Problem with 4 kind of version's"
      ],
      "metadata": {
        "id": "tDJ68wL6KIRm"
      }
    },
    {
      "cell_type": "code",
      "execution_count": 3,
      "metadata": {
        "colab": {
          "base_uri": "https://localhost:8080/"
        },
        "id": "VdqhnSYkJjwe",
        "outputId": "17bc6cb8-f5d8-4ce0-8266-5099dabfb245"
      },
      "outputs": [
        {
          "output_type": "stream",
          "name": "stdout",
          "text": [
            "The LCM of 12 and 18 is 36.\n"
          ]
        }
      ],
      "source": [
        "#1. Hardcoding the variables\n",
        "\n",
        "import math\n",
        "\n",
        "def calculate_lcm(a, b):\n",
        "    if a == 0 or b == 0:\n",
        "        return 0\n",
        "    gcd = math.gcd(a, b)\n",
        "    lcm = abs(a * b) // gcd\n",
        "    return lcm\n",
        "\n",
        "\n",
        "num1 = 12\n",
        "num2 = 18\n",
        "result = calculate_lcm(num1, num2)\n",
        "print(f\"The LCM of {num1} and {num2} is {result}.\")\n"
      ]
    },
    {
      "cell_type": "code",
      "source": [
        "#1. Keyboard input from the user\n",
        "\n",
        "import math\n",
        "\n",
        "def calculate_lcm(a, b):\n",
        "    if a == 0 or b == 0:\n",
        "        return 0\n",
        "    gcd = math.gcd(a, b)\n",
        "    lcm = abs(a * b) // gcd\n",
        "    return lcm\n",
        "\n",
        "\n",
        "num1 = int(input(\"Enter the variable 1 value :\"))\n",
        "num2 = int(input(\"Enter the variable 2 value :\"))\n",
        "result = calculate_lcm(num1, num2)\n",
        "print(f\"The LCM of {num1} and {num2} is {result}.\")"
      ],
      "metadata": {
        "colab": {
          "base_uri": "https://localhost:8080/"
        },
        "id": "0X-vIZ1zKUtO",
        "outputId": "815c6c33-53a5-4cd9-b59c-229c91585752"
      },
      "execution_count": 2,
      "outputs": [
        {
          "output_type": "stream",
          "name": "stdout",
          "text": [
            "Enter the variable 1 value :6\n",
            "Enter the variable 2 value :9\n",
            "The LCM of 6 and 9 is 18.\n"
          ]
        }
      ]
    },
    {
      "cell_type": "code",
      "source": [
        "# 3.input from the text file (single - input)\n",
        "\n",
        "import math\n",
        "\n",
        "def calculate_lcm(a, b):\n",
        "    if a == 0 or b == 0:\n",
        "        return 0\n",
        "    gcd = math.gcd(a, b)\n",
        "    lcm = abs(a * b) // gcd\n",
        "    return lcm\n",
        "\n",
        "\n",
        "with open('single_input.txt','r') as file:\n",
        "  a,b = file.read().strip().split()\n",
        "  a = int(a)\n",
        "  b = int(b)\n",
        "  result = calculate_lcm(a,b)\n",
        "  print(f\"The LCM of {a} and {b} is {result}.\")\n",
        "\n"
      ],
      "metadata": {
        "colab": {
          "base_uri": "https://localhost:8080/"
        },
        "id": "rPmT_hM0KiXt",
        "outputId": "a018cd16-4676-446b-c2fd-b17b3686a980"
      },
      "execution_count": 20,
      "outputs": [
        {
          "output_type": "stream",
          "name": "stdout",
          "text": [
            "The LCM of 12 and 18 is 36.\n"
          ]
        }
      ]
    },
    {
      "cell_type": "code",
      "source": [
        "# 4. input from the file with multiple inputs\n",
        "\n",
        "import math\n",
        "\n",
        "def calculate_lcm(a, b):\n",
        "    if a == 0 or b == 0:\n",
        "        return 0\n",
        "    gcd = math.gcd(a, b)\n",
        "    lcm = abs(a * b) // gcd\n",
        "    return lcm\n",
        "\n",
        "\n",
        "with open('multiple_input.txt','r') as files:\n",
        "  for file in files:\n",
        "    a,b=file.strip().split()\n",
        "    a = int(a)\n",
        "    b= int(b)\n",
        "    result = calculate_lcm(a,b)\n",
        "    print(f\"The LCM of {a} and {b} is {result}.\")\n",
        ""
      ],
      "metadata": {
        "colab": {
          "base_uri": "https://localhost:8080/"
        },
        "id": "Ke_O_KrMMvT2",
        "outputId": "78b8342b-780e-4168-8251-1ba57d4a7ca8"
      },
      "execution_count": 30,
      "outputs": [
        {
          "output_type": "stream",
          "name": "stdout",
          "text": [
            "The LCM of 12 and 18 is 36.\n",
            "The LCM of 6 and 2 is 6.\n",
            "The LCM of 4 and 24 is 24.\n",
            "The LCM of 5 and 50 is 50.\n",
            "The LCM of 5 and 75 is 75.\n",
            "The LCM of 4 and 30 is 60.\n"
          ]
        }
      ]
    }
  ]
}